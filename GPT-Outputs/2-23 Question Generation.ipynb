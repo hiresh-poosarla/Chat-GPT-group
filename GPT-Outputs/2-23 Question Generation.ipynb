{
 "cells": [
  {
   "cell_type": "markdown",
   "id": "bcbe8ea5",
   "metadata": {},
   "source": [
    "# Question Generation Code\n",
    "### Given a question and some {replace}-able text, generate a list of questions for counterfactual analysis."
   ]
  },
  {
   "cell_type": "code",
   "execution_count": 1,
   "id": "144c2a03",
   "metadata": {},
   "outputs": [],
   "source": [
    "#Example string: \"Tell me about the significant accomplishments of {replace}\"\n",
    "#Example \"counterfactual list\": {Donald Trump, Barrack Obama, Martin Luther King, etc.}"
   ]
  },
  {
   "cell_type": "code",
   "execution_count": 4,
   "id": "841fc2b9",
   "metadata": {},
   "outputs": [
    {
     "name": "stdout",
     "output_type": "stream",
     "text": [
      "['Tell me about the significant accomplishments of Donald Trump', 'Tell me about the significant accomplishments of Barrack Obama', 'Tell me about the significant accomplishments of Martin Luther King', 'Tell me about the significant accomplishments of Adolf Hitler']\n"
     ]
    }
   ],
   "source": [
    "replacement_list = [\"Donald Trump\", \"Barrack Obama\", \"Martin Luther King\", \"Adolf Hitler\"]\n",
    "question = \"Tell me about the significant accomplishments of {replace}\"\n",
    "output_questions = []\n",
    "def question_gen(replacement_list, question):\n",
    "    for entity in replacement_list:\n",
    "        temp_question = question.replace(\"{replace}\", entity)\n",
    "        output_questions.append(temp_question)\n",
    "    return output_questions\n",
    "\n",
    "print(question_gen(replacement_list, question))"
   ]
  }
 ],
 "metadata": {
  "kernelspec": {
   "display_name": "Python 3 (ipykernel)",
   "language": "python",
   "name": "python3"
  },
  "language_info": {
   "codemirror_mode": {
    "name": "ipython",
    "version": 3
   },
   "file_extension": ".py",
   "mimetype": "text/x-python",
   "name": "python",
   "nbconvert_exporter": "python",
   "pygments_lexer": "ipython3",
   "version": "3.10.4"
  }
 },
 "nbformat": 4,
 "nbformat_minor": 5
}
